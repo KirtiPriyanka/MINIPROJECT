{
  "nbformat": 4,
  "nbformat_minor": 0,
  "metadata": {
    "colab": {
      "provenance": [],
      "authorship_tag": "ABX9TyOLjiOxNfbFxJFlPnXCCBYV",
      "include_colab_link": true
    },
    "kernelspec": {
      "name": "python3",
      "display_name": "Python 3"
    },
    "language_info": {
      "name": "python"
    }
  },
  "cells": [
    {
      "cell_type": "markdown",
      "metadata": {
        "id": "view-in-github",
        "colab_type": "text"
      },
      "source": [
        "<a href=\"https://colab.research.google.com/github/KirtiPriyanka/MINIPROJECT/blob/main/MINI_PROJECT_Voice_your_Banking_Needs.ipynb\" target=\"_parent\"><img src=\"https://colab.research.google.com/assets/colab-badge.svg\" alt=\"Open In Colab\"/></a>"
      ]
    },
    {
      "cell_type": "code",
      "execution_count": null,
      "metadata": {
        "colab": {
          "base_uri": "https://localhost:8080/"
        },
        "id": "P0plpA_w79XD",
        "outputId": "bfb21459-6469-48d5-fd00-0c23adfb23b9"
      },
      "outputs": [
        {
          "output_type": "stream",
          "name": "stdout",
          "text": [
            "Looking in indexes: https://pypi.org/simple, https://us-python.pkg.dev/colab-wheels/public/simple/\n",
            "Collecting SpeechRecognition\n",
            "  Downloading SpeechRecognition-3.10.0-py2.py3-none-any.whl (32.8 MB)\n",
            "\u001b[2K     \u001b[90m━━━━━━━━━━━━━━━━━━━━━━━━━━━━━━━━━━━━━━━━\u001b[0m \u001b[32m32.8/32.8 MB\u001b[0m \u001b[31m40.1 MB/s\u001b[0m eta \u001b[36m0:00:00\u001b[0m\n",
            "\u001b[?25hRequirement already satisfied: requests>=2.26.0 in /usr/local/lib/python3.9/dist-packages (from SpeechRecognition) (2.27.1)\n",
            "Requirement already satisfied: idna<4,>=2.5 in /usr/local/lib/python3.9/dist-packages (from requests>=2.26.0->SpeechRecognition) (3.4)\n",
            "Requirement already satisfied: charset-normalizer~=2.0.0 in /usr/local/lib/python3.9/dist-packages (from requests>=2.26.0->SpeechRecognition) (2.0.12)\n",
            "Requirement already satisfied: certifi>=2017.4.17 in /usr/local/lib/python3.9/dist-packages (from requests>=2.26.0->SpeechRecognition) (2022.12.7)\n",
            "Requirement already satisfied: urllib3<1.27,>=1.21.1 in /usr/local/lib/python3.9/dist-packages (from requests>=2.26.0->SpeechRecognition) (1.26.15)\n",
            "Installing collected packages: SpeechRecognition\n",
            "Successfully installed SpeechRecognition-3.10.0\n",
            "Looking in indexes: https://pypi.org/simple, https://us-python.pkg.dev/colab-wheels/public/simple/\n",
            "Collecting pydub[ffmpeg]\n",
            "  Downloading pydub-0.25.1-py2.py3-none-any.whl (32 kB)\n",
            "\u001b[33mWARNING: pydub 0.25.1 does not provide the extra 'ffmpeg'\u001b[0m\u001b[33m\n",
            "\u001b[0mInstalling collected packages: pydub\n",
            "Successfully installed pydub-0.25.1\n",
            "Looking in indexes: https://pypi.org/simple, https://us-python.pkg.dev/colab-wheels/public/simple/\n",
            "Collecting langdetect\n",
            "  Downloading langdetect-1.0.9.tar.gz (981 kB)\n",
            "\u001b[2K     \u001b[90m━━━━━━━━━━━━━━━━━━━━━━━━━━━━━━━━━━━━━━\u001b[0m \u001b[32m981.5/981.5 kB\u001b[0m \u001b[31m32.3 MB/s\u001b[0m eta \u001b[36m0:00:00\u001b[0m\n",
            "\u001b[?25h  Preparing metadata (setup.py) ... \u001b[?25l\u001b[?25hdone\n",
            "Requirement already satisfied: six in /usr/local/lib/python3.9/dist-packages (from langdetect) (1.16.0)\n",
            "Building wheels for collected packages: langdetect\n",
            "  Building wheel for langdetect (setup.py) ... \u001b[?25l\u001b[?25hdone\n",
            "  Created wheel for langdetect: filename=langdetect-1.0.9-py3-none-any.whl size=993243 sha256=bd69ee11b2a6177b4cda9e0b1cb36facf17213dec1bfd1e64e3f959ed02d06f8\n",
            "  Stored in directory: /root/.cache/pip/wheels/d1/c1/d9/7e068de779d863bc8f8fc9467d85e25cfe47fa5051fff1a1bb\n",
            "Successfully built langdetect\n",
            "Installing collected packages: langdetect\n",
            "Successfully installed langdetect-1.0.9\n",
            "Looking in indexes: https://pypi.org/simple, https://us-python.pkg.dev/colab-wheels/public/simple/\n",
            "Collecting gtts\n",
            "  Downloading gTTS-2.3.2-py3-none-any.whl (28 kB)\n",
            "Requirement already satisfied: click<8.2,>=7.1 in /usr/local/lib/python3.9/dist-packages (from gtts) (8.1.3)\n",
            "Requirement already satisfied: requests<3,>=2.27 in /usr/local/lib/python3.9/dist-packages (from gtts) (2.27.1)\n",
            "Requirement already satisfied: charset-normalizer~=2.0.0 in /usr/local/lib/python3.9/dist-packages (from requests<3,>=2.27->gtts) (2.0.12)\n",
            "Requirement already satisfied: idna<4,>=2.5 in /usr/local/lib/python3.9/dist-packages (from requests<3,>=2.27->gtts) (3.4)\n",
            "Requirement already satisfied: urllib3<1.27,>=1.21.1 in /usr/local/lib/python3.9/dist-packages (from requests<3,>=2.27->gtts) (1.26.15)\n",
            "Requirement already satisfied: certifi>=2017.4.17 in /usr/local/lib/python3.9/dist-packages (from requests<3,>=2.27->gtts) (2022.12.7)\n",
            "Installing collected packages: gtts\n",
            "Successfully installed gtts-2.3.2\n",
            "Looking in indexes: https://pypi.org/simple, https://us-python.pkg.dev/colab-wheels/public/simple/\n",
            "Collecting translate\n",
            "  Downloading translate-3.6.1-py2.py3-none-any.whl (12 kB)\n",
            "Requirement already satisfied: requests in /usr/local/lib/python3.9/dist-packages (from translate) (2.27.1)\n",
            "Requirement already satisfied: click in /usr/local/lib/python3.9/dist-packages (from translate) (8.1.3)\n",
            "Requirement already satisfied: lxml in /usr/local/lib/python3.9/dist-packages (from translate) (4.9.2)\n",
            "Collecting libretranslatepy==2.1.1\n",
            "  Downloading libretranslatepy-2.1.1-py3-none-any.whl (3.2 kB)\n",
            "Requirement already satisfied: idna<4,>=2.5 in /usr/local/lib/python3.9/dist-packages (from requests->translate) (3.4)\n",
            "Requirement already satisfied: urllib3<1.27,>=1.21.1 in /usr/local/lib/python3.9/dist-packages (from requests->translate) (1.26.15)\n",
            "Requirement already satisfied: charset-normalizer~=2.0.0 in /usr/local/lib/python3.9/dist-packages (from requests->translate) (2.0.12)\n",
            "Requirement already satisfied: certifi>=2017.4.17 in /usr/local/lib/python3.9/dist-packages (from requests->translate) (2022.12.7)\n",
            "Installing collected packages: libretranslatepy, translate\n",
            "Successfully installed libretranslatepy-2.1.1 translate-3.6.1\n",
            "Looking in indexes: https://pypi.org/simple, https://us-python.pkg.dev/colab-wheels/public/simple/\n",
            "Requirement already satisfied: requests in /usr/local/lib/python3.9/dist-packages (2.27.1)\n",
            "Requirement already satisfied: certifi>=2017.4.17 in /usr/local/lib/python3.9/dist-packages (from requests) (2022.12.7)\n",
            "Requirement already satisfied: urllib3<1.27,>=1.21.1 in /usr/local/lib/python3.9/dist-packages (from requests) (1.26.15)\n",
            "Requirement already satisfied: idna<4,>=2.5 in /usr/local/lib/python3.9/dist-packages (from requests) (3.4)\n",
            "Requirement already satisfied: charset-normalizer~=2.0.0 in /usr/local/lib/python3.9/dist-packages (from requests) (2.0.12)\n",
            "Looking in indexes: https://pypi.org/simple, https://us-python.pkg.dev/colab-wheels/public/simple/\n",
            "Collecting pyttsx3\n",
            "  Downloading pyttsx3-2.90-py3-none-any.whl (39 kB)\n",
            "Installing collected packages: pyttsx3\n",
            "Successfully installed pyttsx3-2.90\n",
            "Get:1 http://ppa.launchpad.net/c2d4u.team/c2d4u4.0+/ubuntu focal InRelease [18.1 kB]\n",
            "Get:2 http://security.ubuntu.com/ubuntu focal-security InRelease [114 kB]\n",
            "Get:3 https://cloud.r-project.org/bin/linux/ubuntu focal-cran40/ InRelease [3,622 B]\n",
            "Hit:4 http://ppa.launchpad.net/cran/libgit2/ubuntu focal InRelease\n",
            "Hit:5 http://ppa.launchpad.net/deadsnakes/ppa/ubuntu focal InRelease\n",
            "Get:6 https://developer.download.nvidia.com/compute/cuda/repos/ubuntu2004/x86_64  InRelease [1,581 B]\n",
            "Hit:7 http://ppa.launchpad.net/graphics-drivers/ppa/ubuntu focal InRelease\n",
            "Hit:8 http://ppa.launchpad.net/ubuntugis/ppa/ubuntu focal InRelease\n",
            "Hit:9 http://archive.ubuntu.com/ubuntu focal InRelease\n",
            "Get:10 http://ppa.launchpad.net/c2d4u.team/c2d4u4.0+/ubuntu focal/main Sources [2,561 kB]\n",
            "Get:11 http://archive.ubuntu.com/ubuntu focal-updates InRelease [114 kB]\n",
            "Get:12 https://cloud.r-project.org/bin/linux/ubuntu focal-cran40/ Packages [77.6 kB]\n",
            "Get:13 http://ppa.launchpad.net/c2d4u.team/c2d4u4.0+/ubuntu focal/main amd64 Packages [1,208 kB]\n",
            "Get:14 http://archive.ubuntu.com/ubuntu focal-backports InRelease [108 kB]\n",
            "Get:15 http://security.ubuntu.com/ubuntu focal-security/main amd64 Packages [2,675 kB]\n",
            "Get:16 http://security.ubuntu.com/ubuntu focal-security/restricted amd64 Packages [2,203 kB]\n",
            "Get:17 http://security.ubuntu.com/ubuntu focal-security/universe amd64 Packages [1,047 kB]\n",
            "Get:18 https://developer.download.nvidia.com/compute/cuda/repos/ubuntu2004/x86_64  Packages [1,010 kB]\n",
            "Get:19 http://archive.ubuntu.com/ubuntu focal-updates/universe amd64 Packages [1,342 kB]\n",
            "Get:20 http://archive.ubuntu.com/ubuntu focal-updates/restricted amd64 Packages [2,341 kB]\n",
            "Get:21 http://archive.ubuntu.com/ubuntu focal-updates/main amd64 Packages [3,157 kB]\n",
            "Fetched 18.0 MB in 3s (6,941 kB/s)\n",
            "Reading package lists... Done\n",
            "Reading package lists... Done\n",
            "Building dependency tree       \n",
            "Reading state information... Done\n",
            "The following additional packages will be installed:\n",
            "  espeak-data libespeak1 libportaudio2 libsonic0\n",
            "The following NEW packages will be installed:\n",
            "  espeak espeak-data libespeak1 libportaudio2 libsonic0\n",
            "0 upgraded, 5 newly installed, 0 to remove and 39 not upgraded.\n",
            "Need to get 1,220 kB of archives.\n",
            "After this operation, 3,060 kB of additional disk space will be used.\n",
            "Get:1 http://archive.ubuntu.com/ubuntu focal/universe amd64 libportaudio2 amd64 19.6.0-1build1 [65.4 kB]\n",
            "Get:2 http://archive.ubuntu.com/ubuntu focal/main amd64 libsonic0 amd64 0.2.0-8 [13.1 kB]\n",
            "Get:3 http://archive.ubuntu.com/ubuntu focal/universe amd64 espeak-data amd64 1.48.04+dfsg-8build1 [932 kB]\n",
            "Get:4 http://archive.ubuntu.com/ubuntu focal/universe amd64 libespeak1 amd64 1.48.04+dfsg-8build1 [147 kB]\n",
            "Get:5 http://archive.ubuntu.com/ubuntu focal/universe amd64 espeak amd64 1.48.04+dfsg-8build1 [61.8 kB]\n",
            "Fetched 1,220 kB in 1s (1,486 kB/s)\n",
            "debconf: unable to initialize frontend: Dialog\n",
            "debconf: (No usable dialog-like program is installed, so the dialog based frontend cannot be used. at /usr/share/perl5/Debconf/FrontEnd/Dialog.pm line 76, <> line 5.)\n",
            "debconf: falling back to frontend: Readline\n",
            "debconf: unable to initialize frontend: Readline\n",
            "debconf: (This frontend requires a controlling tty.)\n",
            "debconf: falling back to frontend: Teletype\n",
            "dpkg-preconfigure: unable to re-open stdin: \n",
            "Selecting previously unselected package libportaudio2:amd64.\n",
            "(Reading database ... 122400 files and directories currently installed.)\n",
            "Preparing to unpack .../libportaudio2_19.6.0-1build1_amd64.deb ...\n",
            "Unpacking libportaudio2:amd64 (19.6.0-1build1) ...\n",
            "Selecting previously unselected package libsonic0:amd64.\n",
            "Preparing to unpack .../libsonic0_0.2.0-8_amd64.deb ...\n",
            "Unpacking libsonic0:amd64 (0.2.0-8) ...\n",
            "Selecting previously unselected package espeak-data:amd64.\n",
            "Preparing to unpack .../espeak-data_1.48.04+dfsg-8build1_amd64.deb ...\n",
            "Unpacking espeak-data:amd64 (1.48.04+dfsg-8build1) ...\n",
            "Selecting previously unselected package libespeak1:amd64.\n",
            "Preparing to unpack .../libespeak1_1.48.04+dfsg-8build1_amd64.deb ...\n",
            "Unpacking libespeak1:amd64 (1.48.04+dfsg-8build1) ...\n",
            "Selecting previously unselected package espeak.\n",
            "Preparing to unpack .../espeak_1.48.04+dfsg-8build1_amd64.deb ...\n",
            "Unpacking espeak (1.48.04+dfsg-8build1) ...\n",
            "Setting up libportaudio2:amd64 (19.6.0-1build1) ...\n",
            "Setting up libsonic0:amd64 (0.2.0-8) ...\n",
            "Setting up espeak-data:amd64 (1.48.04+dfsg-8build1) ...\n",
            "Setting up libespeak1:amd64 (1.48.04+dfsg-8build1) ...\n",
            "Setting up espeak (1.48.04+dfsg-8build1) ...\n",
            "Processing triggers for man-db (2.9.1-1) ...\n",
            "Processing triggers for libc-bin (2.31-0ubuntu9.9) ...\n",
            "Hit:1 http://ppa.launchpad.net/c2d4u.team/c2d4u4.0+/ubuntu focal InRelease\n",
            "Hit:2 http://security.ubuntu.com/ubuntu focal-security InRelease\n",
            "Hit:3 https://cloud.r-project.org/bin/linux/ubuntu focal-cran40/ InRelease\n",
            "Hit:4 http://ppa.launchpad.net/cran/libgit2/ubuntu focal InRelease\n",
            "Hit:5 http://ppa.launchpad.net/deadsnakes/ppa/ubuntu focal InRelease\n",
            "Hit:6 https://developer.download.nvidia.com/compute/cuda/repos/ubuntu2004/x86_64  InRelease\n",
            "Hit:7 http://ppa.launchpad.net/graphics-drivers/ppa/ubuntu focal InRelease\n",
            "Hit:8 http://ppa.launchpad.net/ubuntugis/ppa/ubuntu focal InRelease\n",
            "Hit:9 http://archive.ubuntu.com/ubuntu focal InRelease\n",
            "Hit:10 http://archive.ubuntu.com/ubuntu focal-updates InRelease\n",
            "Hit:11 http://archive.ubuntu.com/ubuntu focal-backports InRelease\n",
            "Reading package lists... Done\n",
            "Reading package lists... Done\n",
            "Building dependency tree       \n",
            "Reading state information... Done\n",
            "libespeak1 is already the newest version (1.48.04+dfsg-8build1).\n",
            "libespeak1 set to manually installed.\n",
            "0 upgraded, 0 newly installed, 0 to remove and 39 not upgraded.\n",
            "Looking in indexes: https://pypi.org/simple, https://us-python.pkg.dev/colab-wheels/public/simple/\n",
            "Collecting googletrans==4.0.0-rc1\n",
            "  Downloading googletrans-4.0.0rc1.tar.gz (20 kB)\n",
            "  Preparing metadata (setup.py) ... \u001b[?25l\u001b[?25hdone\n",
            "Collecting httpx==0.13.3\n",
            "  Downloading httpx-0.13.3-py3-none-any.whl (55 kB)\n",
            "\u001b[2K     \u001b[90m━━━━━━━━━━━━━━━━━━━━━━━━━━━━━━━━━━━━━━━━\u001b[0m \u001b[32m55.1/55.1 kB\u001b[0m \u001b[31m7.1 MB/s\u001b[0m eta \u001b[36m0:00:00\u001b[0m\n",
            "\u001b[?25hRequirement already satisfied: sniffio in /usr/local/lib/python3.9/dist-packages (from httpx==0.13.3->googletrans==4.0.0-rc1) (1.3.0)\n",
            "Collecting idna==2.*\n",
            "  Downloading idna-2.10-py2.py3-none-any.whl (58 kB)\n",
            "\u001b[2K     \u001b[90m━━━━━━━━━━━━━━━━━━━━━━━━━━━━━━━━━━━━━━━━\u001b[0m \u001b[32m58.8/58.8 kB\u001b[0m \u001b[31m8.1 MB/s\u001b[0m eta \u001b[36m0:00:00\u001b[0m\n",
            "\u001b[?25hCollecting rfc3986<2,>=1.3\n",
            "  Downloading rfc3986-1.5.0-py2.py3-none-any.whl (31 kB)\n",
            "Requirement already satisfied: certifi in /usr/local/lib/python3.9/dist-packages (from httpx==0.13.3->googletrans==4.0.0-rc1) (2022.12.7)\n",
            "Collecting httpcore==0.9.*\n",
            "  Downloading httpcore-0.9.1-py3-none-any.whl (42 kB)\n",
            "\u001b[2K     \u001b[90m━━━━━━━━━━━━━━━━━━━━━━━━━━━━━━━━━━━━━━━━\u001b[0m \u001b[32m42.6/42.6 kB\u001b[0m \u001b[31m5.5 MB/s\u001b[0m eta \u001b[36m0:00:00\u001b[0m\n",
            "\u001b[?25hCollecting hstspreload\n",
            "  Downloading hstspreload-2023.1.1-py3-none-any.whl (1.5 MB)\n",
            "\u001b[2K     \u001b[90m━━━━━━━━━━━━━━━━━━━━━━━━━━━━━━━━━━━━━━━━\u001b[0m \u001b[32m1.5/1.5 MB\u001b[0m \u001b[31m56.9 MB/s\u001b[0m eta \u001b[36m0:00:00\u001b[0m\n",
            "\u001b[?25hCollecting chardet==3.*\n",
            "  Downloading chardet-3.0.4-py2.py3-none-any.whl (133 kB)\n",
            "\u001b[2K     \u001b[90m━━━━━━━━━━━━━━━━━━━━━━━━━━━━━━━━━━━━━━\u001b[0m \u001b[32m133.4/133.4 kB\u001b[0m \u001b[31m17.4 MB/s\u001b[0m eta \u001b[36m0:00:00\u001b[0m\n",
            "\u001b[?25hCollecting h11<0.10,>=0.8\n",
            "  Downloading h11-0.9.0-py2.py3-none-any.whl (53 kB)\n",
            "\u001b[2K     \u001b[90m━━━━━━━━━━━━━━━━━━━━━━━━━━━━━━━━━━━━━━━━\u001b[0m \u001b[32m53.6/53.6 kB\u001b[0m \u001b[31m6.4 MB/s\u001b[0m eta \u001b[36m0:00:00\u001b[0m\n",
            "\u001b[?25hCollecting h2==3.*\n",
            "  Downloading h2-3.2.0-py2.py3-none-any.whl (65 kB)\n",
            "\u001b[2K     \u001b[90m━━━━━━━━━━━━━━━━━━━━━━━━━━━━━━━━━━━━━━━━\u001b[0m \u001b[32m65.0/65.0 kB\u001b[0m \u001b[31m8.7 MB/s\u001b[0m eta \u001b[36m0:00:00\u001b[0m\n",
            "\u001b[?25hCollecting hyperframe<6,>=5.2.0\n",
            "  Downloading hyperframe-5.2.0-py2.py3-none-any.whl (12 kB)\n",
            "Collecting hpack<4,>=3.0\n",
            "  Downloading hpack-3.0.0-py2.py3-none-any.whl (38 kB)\n",
            "Building wheels for collected packages: googletrans\n",
            "  Building wheel for googletrans (setup.py) ... \u001b[?25l\u001b[?25hdone\n",
            "  Created wheel for googletrans: filename=googletrans-4.0.0rc1-py3-none-any.whl size=17413 sha256=fb5e9ea4054a8f7822d7c6ae1ba5440ed44a517abe1d0c0fe55b81852b176f93\n",
            "  Stored in directory: /root/.cache/pip/wheels/60/b3/27/d8aff3e2d5c2d0d97a117cdf0d5f13cd121e2c2b5fb49b55a0\n",
            "Successfully built googletrans\n",
            "Installing collected packages: rfc3986, hyperframe, hpack, h11, chardet, idna, hstspreload, h2, httpcore, httpx, googletrans\n",
            "  Attempting uninstall: chardet\n",
            "    Found existing installation: chardet 4.0.0\n",
            "    Uninstalling chardet-4.0.0:\n",
            "      Successfully uninstalled chardet-4.0.0\n",
            "  Attempting uninstall: idna\n",
            "    Found existing installation: idna 3.4\n",
            "    Uninstalling idna-3.4:\n",
            "      Successfully uninstalled idna-3.4\n",
            "Successfully installed chardet-3.0.4 googletrans-4.0.0rc1 h11-0.9.0 h2-3.2.0 hpack-3.0.0 hstspreload-2023.1.1 httpcore-0.9.1 httpx-0.13.3 hyperframe-5.2.0 idna-2.10 rfc3986-1.5.0\n",
            "Looking in indexes: https://pypi.org/simple, https://us-python.pkg.dev/colab-wheels/public/simple/\n",
            "Requirement already satisfied: gTTS in /usr/local/lib/python3.9/dist-packages (2.3.2)\n",
            "Requirement already satisfied: click<8.2,>=7.1 in /usr/local/lib/python3.9/dist-packages (from gTTS) (8.1.3)\n",
            "Requirement already satisfied: requests<3,>=2.27 in /usr/local/lib/python3.9/dist-packages (from gTTS) (2.27.1)\n",
            "Requirement already satisfied: certifi>=2017.4.17 in /usr/local/lib/python3.9/dist-packages (from requests<3,>=2.27->gTTS) (2022.12.7)\n",
            "Requirement already satisfied: urllib3<1.27,>=1.21.1 in /usr/local/lib/python3.9/dist-packages (from requests<3,>=2.27->gTTS) (1.26.15)\n",
            "Requirement already satisfied: idna<4,>=2.5 in /usr/local/lib/python3.9/dist-packages (from requests<3,>=2.27->gTTS) (2.10)\n",
            "Requirement already satisfied: charset-normalizer~=2.0.0 in /usr/local/lib/python3.9/dist-packages (from requests<3,>=2.27->gTTS) (2.0.12)\n"
          ]
        }
      ],
      "source": [
        "!pip install SpeechRecognition\n",
        "!pip install pydub[ffmpeg]\n",
        "!pip install langdetect\n",
        "!pip install gtts\n",
        "!pip install translate\n",
        "!pip install requests\n",
        "!pip install pyttsx3\n",
        "!sudo apt-get update\n",
        "!sudo apt-get install espeak\n",
        "!sudo apt-get update\n",
        "!sudo apt-get install libespeak1\n",
        "!pip install googletrans==4.0.0-rc1\n",
        "!pip install gTTS"
      ]
    },
    {
      "cell_type": "code",
      "source": [
        "from google.colab import drive\n",
        "drive.mount('/content/drive')"
      ],
      "metadata": {
        "colab": {
          "base_uri": "https://localhost:8080/"
        },
        "id": "3q2tJN-g8Bak",
        "outputId": "c40053c8-6be1-42f5-c97d-5580a3f42350"
      },
      "execution_count": null,
      "outputs": [
        {
          "output_type": "stream",
          "name": "stdout",
          "text": [
            "Mounted at /content/drive\n"
          ]
        }
      ]
    },
    {
      "cell_type": "code",
      "source": [
        "  # import the necessary libraries\n",
        "from gtts import gTTS\n",
        "from IPython.display import Audio\n",
        "\n",
        "# define the text to be spoken\n",
        "gen = \"SELECT LANGUAGE\"\n",
        "\n",
        "# create the speech\n",
        "tts = gTTS(gen)\n",
        "\n",
        "# save the speech as a temporary file\n",
        "tts.save(\"temp.mp3\")\n",
        "\n",
        "# play the speech\n",
        "Audio(\"temp.mp3\", autoplay=True)\n"
      ],
      "metadata": {
        "colab": {
          "base_uri": "https://localhost:8080/",
          "height": 75
        },
        "id": "aRqBk1qfz3hS",
        "outputId": "ffbdc4cf-1657-498a-8026-74219283ee23"
      },
      "execution_count": null,
      "outputs": [
        {
          "output_type": "execute_result",
          "data": {
            "text/plain": [
              "<IPython.lib.display.Audio object>"
            ],
            "text/html": [
              "\n",
              "                <audio  controls=\"controls\" autoplay=\"autoplay\">\n",
              "                    <source src=\"data:audio/mpeg;base64,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\" type=\"audio/mpeg\" />\n",
              "                    Your browser does not support the audio element.\n",
              "                </audio>\n",
              "              "
            ]
          },
          "metadata": {},
          "execution_count": 41
        }
      ]
    },
    {
      "cell_type": "code",
      "source": [
        "from pydub import AudioSegment\n",
        "\n",
        "# replace \"input_file.ogg\" with the name of your OGG file\n",
        "input_file = AudioSegment.from_file(\"/content/tamil.ogg\", format=\"ogg\")\n",
        "\n",
        "# replace \"output_file.wav\" with the name of your desired output WAV file\n",
        "output_file = \"output_file.wav\"\n",
        "\n",
        "# export the audio to WAV format\n",
        "input_file.export(output_file, format=\"wav\")\n",
        "\n",
        "import speech_recognition as sr\n",
        "\n",
        "lang = '/content/output_file.wav'"
      ],
      "metadata": {
        "id": "qHV-RkNw9mCo"
      },
      "execution_count": null,
      "outputs": []
    },
    {
      "cell_type": "code",
      "source": [
        "#initialize the recognizer\n",
        "r = sr.Recognizer()\n",
        "# open the file\n",
        "with sr.AudioFile(lang) as source:\n",
        "    # listen for the data (load audio to memory)\n",
        "    audio_data = r.record(source)\n",
        "    # recognize (convert from speech to text)\n",
        "V = r.recognize_google(audio_data)\n",
        "print(V)"
      ],
      "metadata": {
        "colab": {
          "base_uri": "https://localhost:8080/"
        },
        "id": "FZneWrxQ99lh",
        "outputId": "5f947596-45cb-413e-bf5d-1aced8c4cabf"
      },
      "execution_count": null,
      "outputs": [
        {
          "output_type": "stream",
          "name": "stdout",
          "text": [
            "Tamil\n"
          ]
        }
      ]
    },
    {
      "cell_type": "code",
      "source": [
        "speech=\"WELCOME how can help you\"\n",
        "from translate import Translator\n",
        "translator= Translator(to_lang=V)\n",
        "translation = translator.translate(speech)\n",
        "print(translation)"
      ],
      "metadata": {
        "colab": {
          "base_uri": "https://localhost:8080/"
        },
        "id": "n0sFhHpBPpup",
        "outputId": "480cdd0e-01fa-4dfc-c91d-4f7cc03aa90f"
      },
      "execution_count": null,
      "outputs": [
        {
          "output_type": "stream",
          "name": "stdout",
          "text": [
            "நாங்கள் உங்களுக்கு எவ்வாறு உதவட்டும்?\n"
          ]
        }
      ]
    },
    {
      "cell_type": "code",
      "source": [
        "from gtts import gTTS\n",
        "from IPython.display import Audio\n",
        "\n",
        "text_to_say = translation\n",
        "if V == \"Tamil\":\n",
        "    language = \"ta\"\n",
        "elif V == \"Korean\":\n",
        "    language = \"ko\"\n",
        "elif V == \"Hindi\":\n",
        "    language = \"hi\"\n",
        "elif V == \"Malayalam\":\n",
        "  language = \"ml\"\n",
        "elif V == \"Telugu\":\n",
        "  language = \"te\"\n",
        "elif V == \"Chinese\":\n",
        "  language = \"zh-CN\"\n",
        "elif V == \"French\":\n",
        "  language = \"fr\"\n",
        "\n",
        "gtts_object = gTTS(text=text_to_say, lang=language, slow=False)\n",
        "gtts_object.save(\"/content/gtts.wav\")\n",
        "\n",
        "Audio(\"/content/gtts.wav\", autoplay=True)\n"
      ],
      "metadata": {
        "colab": {
          "base_uri": "https://localhost:8080/",
          "height": 75
        },
        "id": "Ctphof-6QF9T",
        "outputId": "26f2bff7-6943-49da-d06a-3656d433cdeb"
      },
      "execution_count": null,
      "outputs": [
        {
          "output_type": "execute_result",
          "data": {
            "text/plain": [
              "<IPython.lib.display.Audio object>"
            ],
            "text/html": [
              "\n",
              "                <audio  controls=\"controls\" autoplay=\"autoplay\">\n",
              "                    <source src=\"data:audio/x-wav;base64,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\" type=\"audio/x-wav\" />\n",
              "                    Your browser does not support the audio element.\n",
              "                </audio>\n",
              "              "
            ]
          },
          "metadata": {},
          "execution_count": 45
        }
      ]
    },
    {
      "cell_type": "code",
      "source": [
        "from pydub import AudioSegment\n",
        "\n",
        "# replace \"input_file.ogg\" with the name of your OGG file\n",
        "input_file = AudioSegment.from_file(\"/content/fixed depo.33.01.ogg\", format=\"ogg\")\n",
        "\n",
        "# replace \"output_file.wav\" with the name of your desired output WAV file\n",
        "output_file = \"output_file1.wav\"\n",
        "\n",
        "# export the audio to WAV format\n",
        "input_file.export(output_file, format=\"wav\")\n",
        "\n",
        "import speech_recognition as sr\n",
        "\n",
        "lang = '/content/output_file1.wav'\n"
      ],
      "metadata": {
        "id": "o6-qykkyCY16"
      },
      "execution_count": null,
      "outputs": []
    },
    {
      "cell_type": "code",
      "source": [
        "import speech_recognition as sr\n",
        "service = '/content/output_file1.wav'"
      ],
      "metadata": {
        "id": "rRsST07Fat3k"
      },
      "execution_count": null,
      "outputs": []
    },
    {
      "cell_type": "code",
      "source": [
        "\n",
        "# create a recognizer object\n",
        "r = sr.Recognizer()\n",
        "\n",
        "# define the path to the audio file\n",
        "audio_file = \"/content/output_file1.wav\"\n",
        "\n",
        "# open the audio file\n",
        "with sr.AudioFile(audio_file) as source:\n",
        "    # read the audio data from the file\n",
        "    audio_data = r.record(source)\n",
        "\n",
        "# transcribe the audio to text using the Google Web Speech API\n",
        "text1 = r.recognize_google(audio_data)\n",
        "\n",
        "# print the transcribed text\n",
        "print(text1)\n"
      ],
      "metadata": {
        "colab": {
          "base_uri": "https://localhost:8080/"
        },
        "id": "V1yd-_Xg_nks",
        "outputId": "112f7a20-2dd9-48ce-b34c-6f516dcf2f56"
      },
      "execution_count": null,
      "outputs": [
        {
          "output_type": "stream",
          "name": "stdout",
          "text": [
            "fixed depos\n"
          ]
        }
      ]
    },
    {
      "cell_type": "code",
      "source": [
        "from googletrans import Translator\n",
        "if(text1==\"balance\"):\n",
        "  text=\"balance is three thousand\"\n",
        "elif(text1==\"lo\"):\n",
        "  text=\"interest rate 5 percentage\"\n",
        "elif(text1==\"fixed depos\"):\n",
        "  text=\"interest rate 7 percentage\"\n",
        "elif(text1==\"credit card balance\"):\n",
        "  text=\"balance is eight thousand\"\n",
        "# create a translator object\n",
        "translator = Translator()\n",
        "# translate the text to Tamil\n",
        "translation = translator.translate(text, dest=V)\n",
        "# output the translation\n",
        "print(translation.text)"
      ],
      "metadata": {
        "id": "wpEd7M6Li9Xu",
        "colab": {
          "base_uri": "https://localhost:8080/"
        },
        "outputId": "bba6062b-ec74-4450-8fcc-13a9f03f91a7"
      },
      "execution_count": null,
      "outputs": [
        {
          "output_type": "stream",
          "name": "stdout",
          "text": [
            "வட்டி விகிதம் 7 சதவீதம்\n"
          ]
        }
      ]
    },
    {
      "cell_type": "code",
      "source": [
        "from gtts import gTTS\n",
        "from IPython.display import Audio\n",
        "if V == \"Tamil\":\n",
        "    language = \"ta\"\n",
        "elif V == \"Korean\":\n",
        "    language = \"ko\"\n",
        "elif V == \"Hindi\":\n",
        "    language = \"hi\"\n",
        "elif V == \"Malayalam\":\n",
        "  language = \"ml\"\n",
        "elif V == \"Telegu\":\n",
        "  language = \"te\"\n",
        "elif V == \"Kannada\":\n",
        "  language = \"kn\"\n",
        "tts = gTTS(translation.text, lang=language)\n",
        "\n",
        "# Save the audio file\n",
        "tts.save('test.mp3')\n",
        "\n",
        "# Play the audio file\n",
        "Audio('test.mp3', autoplay=True)\n"
      ],
      "metadata": {
        "colab": {
          "base_uri": "https://localhost:8080/",
          "height": 75
        },
        "id": "r6o3qTjr9_ps",
        "outputId": "529023cd-8b27-49e7-b970-f550e4e34f1c"
      },
      "execution_count": null,
      "outputs": [
        {
          "output_type": "execute_result",
          "data": {
            "text/plain": [
              "<IPython.lib.display.Audio object>"
            ],
            "text/html": [
              "\n",
              "                <audio  controls=\"controls\" autoplay=\"autoplay\">\n",
              "                    <source src=\"data:audio/mpeg;base64,//NExAARmQmMAHpEcHaGItPKlVKFCjVI4dZCAHOKy+Obhfus3c3Nx2dyHIqL/QrjDOz7OMMOR6DRl1JgCfWHDZlyTJoLf/8yaf+ZNP/SaFhYyYNKWxHCsOYASC2gnzAH//NExAwRcIYkAHsGSOD0BBFLDjb90vwAV9OUDMIgcQBgLOKNAYEdzkTjgQrCySHe6HwxGhb2efCI8+hPzm+UGjnEf9Jcpk5AKIQRfhgBQAmg02XORNTHBiPNzLzl2xms//NExBkXiR4wANsMcAnI9D+chLax07HIRDMttr7wsQgtZo8HdP+PGR/bufb1+gfhbnp0pgxJ760Iic4pO3rduiJlj5yrY/tUUkG0Cjj6GD31xlVORONeokGjEzSPnVIz//NExA0VIRZUAOMMcGAAQgwIDoWCZikWgIdg2UD4HBEJ8LDJPgTkiBDid1f8gQRIQg4WtnT/aPdtH/vd+JuZjRBAEAyH3y/qc5v////9/SUP2Mu4xX3ZVJhkFmNooFVO//NExAsU2RJkAOPQcCxdL5oYggXBDhBoCUbiewQF6zSKRKRVVgdhOCZyzKwyJ5IEQ0eKh2WF2JF3v6qGSuOUurUxYx49x85d+1qL/Of///+qld6XwwqQPrPF/AJNjCIS//NExAoUOQpwAOPScFJrESLKwq2jrI5Qi1GUrlYhbCwxVeklp65sllU+3lkRUatCRNXiT5+WXiVxm9lq5RSnF2OewsJLb71iPO/////7uhptUs/XoIRodCAjg4YMHKl5//NExAwUmQ5sAOYGcAAFZ1WZhsWc70zg40ultubq2ab73N0HZvrgSqKYINfFkkiRG80vv3ZBmmA6xDUqLUOa51zmX7Pf/26acgtdbVqUtkjKXPIKahOWmnmX9CfMSpEX//NExAwTwMpwANsMcFs0goS+AIWVkJqf9qyy9fQVlhOjsu9FQrnHTF1l4vJLmHlWQiaCbgOk68zRY0HwTKHBG5ef6aUM4g7vqvJs/vpUyqlxpyRK0CuGZKOjQuiYoCYi//NExBAV6Xp8ANvElBphouED7sUTXAbA8Dzi3Q+RMmAPQQhWoWSgQgfillb4a7fVgZ1HxTOKZUquiJtq7OBhxUr2msi/b6rIAHeuh73f//9X9i/VTb1qzGhhk1oHdcuO//NExAsUgYKcAM5ElDdQ+UrZdWXS4LqHYg5kQhyGJXScrSppkrv1Yky1IuB88ZLG43ljhnn/7wJ3ZdD+LUl2Pup//191FhDDxn2k///9Jz/qFbnI1nh2UmdXC61NBQJo//NExAwVIYqkAM6KlBKu/naUaAssSHy2NSJMqGbV72lJiWLGEuoGpy/VO3FVSBJZvv0+HPsd9FPcwmkscAYHF1MJtbP9/6uqGD5xTpnNn//9TP/4tpXDvcYkVKIIvbxZ//NExAoTgRqsAM4WcJGOUxSns0wwMhYhHCOUylSp5Hz4lFn4vb0qTDdNzgJhWCevFbL/iZ+LYymmqJ96axUqPBIl7ekOgcMOv9X///J//4uU6kQKyEATR0iiTIeiKZ6j//NExA8SeRKwAJ4WcKXlH7yW1jTTS9pz/1lN63SQjCUTlzqaUEsnv3OYz+YZW6aZZ1FhPGgUHDdD6heXCDgqz//////962LU13+2WZBodv9YzYKuvzfKsULqv9U3rOld//NExBgRwRqwAM4QcJv//atLki5QsHwiQ14HAKCJGzKfM9Cou7owkLu8k09LGsSbHQ1//////+yWSeHrsUWXugI53LqYVImBDzxcHNimeMpvtJbXL+5X4zvneblIe18i//NExCQR4UKUAM4QcKHpvwLFA2H0U6CzKgsCkGprMxQfN/7LX8C11B2W///////+ingabMTCwxgSScQLCQJLKRylKQJLqWBdqgunUWkP2gxouLS4MuqtViOk3BQXAlqg//NExC8PmO50ANvGcIUoNBoJLTQabYz9X////TVMSBYJfiRqWBxY9AAuzA6VEVE9La02rrtR1yuP92F/LjFq+V7UqvJ70nVWL5LJNIRDC3Wo+C8C7gdf6CnTfcFFbaUQ//NExEMQYQJkANPScYAiK1+AGNLEFDk9Y7GQB0kglyF1GqKJKQHrarETSKrIbLZ8rWZhky7BkWw51JOuHhdURaCIh4A4tveJOy2NAKNAQFGnYtpUSMKFKQi9i9AVLhcA//NExFQR+RpYANvMcHDnIohyFCYnyoQXFTBlc/2l5bp6e3nnuAR0DiMUqSLgdCo+5HqJh8ePKMy4IHKJBwkxR3/63/f6KpyTKySiVjgVO5AIgNNFzEdIFo17NrFlw2Wc//NExF8REJZUAVowAGQZpmJuPJuidPmNEtUm6abmZkimSyCSy4dN0GQxPh7k8lDU+J+IELEJoPAuOgxpsDoHQolE8ggCTB4IhcSnlu/5dLxkzq1UHpf/+tdk+tamqt1r//NExG0fkxKUAZtoAGWr//1vqU6aFda9alOg5O2latd5jhKlbjCmjkXUhgwFFr9nVa33///3Vy/6P+i/zUbmjo1EYSLuPDxIAUPY90NEUJSQkDDKxx5YH8k/eLM/+z////NExEESkVKkAdo4AN86BC6HHXB/+mrHv952yocY3NAJbV9FbWOWEP+Un6lR/qx///f//unub9VyEER0GgMBt/jSbnkBOOkdp2+Gv/9Rmd09K9bEGlOEoVYq73+fvUGk//NExEkQsUqkANiSlDVDi0hJcqM02PeXAEb9BQ/8IE/UxP1EpOrqAwDi5FEkbmhYAkAoSHRjSJY0HQSGu+pzsvqcTM//+n9k9EW5jfR2M9znRm1OdWMVc2o+Y/V26qWt//NExFkVksKUANlOudw7Ui6pTIYUOpDFrMWuz1n+XyxEjr63v/+xIX/xui/+iFh0Nh3LDsRwbjQAw0g2LqZID3HKEhc1SegdWdLPVrPda1aP//0l/0l79q+pvb96Ks6t//NExFUXeqKQAOIauWdWXedPEEr5Le1Nf9mvSnchnuPphOyOpE8mUAAEMiyf9Yqn37yDH45821ImxF9+7Nbg9DnOTAhD0en3Q569GzzUqGsrwk7/8h//+da0WKnWJK6K//NExEoSkS6MANLWcNXDCk3SYzBcw2WIMiCBIKzjRXykBkBHd2v99uxG3bcSuwB3LQRCXy7cn4qMe1pAFnwfYYGuyn2dl//o7iXX/7UeNV7FKrurNuMPuIAwxw8OQIhk//NExFIQyNZ8ANvQcCCgAgfEFnGQlY2LZxAgWxv1tjMAKk3zBh/hrmDCDY0Xz6zNgtOMzPBAyIFFw/lAxhgXlChz////2bEK3n+7kAoPmewpnADEF7z3KziAHlvRPmGK//NExGESQRqMANvMcG+yoc/RHX1DJwxaUIKmgyRSAQDBk0eeSroCTyZxdHO5Rr34fy+ZC9zEoBh7f9n//jIwoUXcyv0VvsOsJGQO2MI1MVqbmQrQW429f0Nbq5v/7P7K//NExGsT2ZqgANnSlHUdXEwWJmRHHgQTEUO8QGkGEO7OVd1MpfV1U7kUif//////+s9tI9XKR8h+hefvVC0QzFIWFRnGMyHNRme//r+jfb/89vmp1HyJuVAwBItUxBwQ//NExG4R4paoAKHKuAtHasODhr6Khz6n/qj2Rn/////2+/0M6qeUsILcpz1O1NYb1Q0xx1o0Ap86SRNLcb+f5B+Yf/gf1N9SW08fg8HRrUogLI1YweEpcl6ub2RU61fm//NExHkRuoKoANHOuDET//kfr4lkgKFoCPQrxE4Airs7RbdnDNsAMenLHF1X0iD9jAF9pfFe/kSToe3o//sj/9H1Q5TXHRaFheISxAJjhscayHtQ79PR9FzWf///+d////NExIURqa6gANBUlPb/1IyYmvxVykEajKCIySWBRU2ludlykEMVygIj5e3n0fRITOT///yEIQ4mH3cPlMUABwmdgEGF4ESXPjXly7AJNf7ChcPl64YKO/Y5KJvGPyqM//NExJERUoaEANHOuRi5RzBAKAODH2IO80CH5Dczy4XCe1yj3SOkpykccx2+YnENGbn9y2QftGrKLJaBtQE4fJWSTA2q8QGVxXSMUIKZmmkYlNAonLZqTxAmwkaj5Ob8//NExJ4RgTJ0ANoKcOa+pk9TnTp3K8Mbew8IVe5POu3Wx1T3LLRqVk6nNI60owCAAKVI7HCwsolWlVegGAE98zEhWMPxKm4FQFTPt87xRH60S6U60aLv6HU91+Zum+oo//NExKsgaq6AANGSuDIOigIcFmcMLJwfwRF1bYPwgRBmUNNCkJrpHmF5QTIdMFZQtCpsWhgNBpe2t18XFOc5zqb+6z0O5p70nbmvm3bamnTSBlVvnefM5iDBi1M9N5yr//NExHwgQsaIANtWuf/rddII1n+vUUOsJ3nxsX46Kh7JLf/8efMHft8g/LfKv5460q4jAWA1OcXVEgMK7mUuA8CdKeszLEn0Cka2ZRcHqeRnEBmJXUms2///v3UastkV//NExE4a4rqUANqauV2aqYstOs46CLoGhOSUpNMnOims3Dgp/TU/ivr7uuVr3aVYYPX0Sp25VyKpC5eHf6ox+Pz+r83+i3rNvOEAutzoCwO4+pZxoRkxzSUC8KUx9Rq3//NExDUXeraUANwUuYrfIFROFGLLIqmk3///9vRqdc7Jzc7LzDahdkJVWcZnX1OvYNd1I9Mxwq/fnADeexSG8/hpyAwhb3MuZjQNvoOFW7p9TvPHvMKrYcFIOhqx04Xg//NExCoUcrKYAMnKuPiTo4wImczTh0v/y/M+spnodBJ///////qT7GfV2Ma5xFQeYHd2sFGkgasnIFhw4hXXmmE/8bYU7cUnsYIiMMw1PZ/llTWvK3NsbmM+USUqGUTD//NExCsSgq6AAVsQAAErPRyqUsqClb/////ml///////lav/L0cKehr/LB1nxrdTITFyUlQJBAgJlI0xU3DkYiASinZfIlVJpE3kofTMwugyLKWPQuGjgrYc8e5AX6jQ//NExDQd4yp4AZpoAN04l4lYIQFUDmfm6aa00yOTUCOTyX/st22NjpDMC46f//5cWtSZm6bf///55IuIS4bl9Nv////8zTJQuMb2TNymShxlrPXApCDgSppdxsTPRTDB//NExA8UYWKwAZlYAIUJztA4u2Ixr9rPN9MSShNVnX1uWcYyaGyx+HNZNqXS81/tur4fcW8zdV/8f/5eru6dRQLu///pb26DGoWTICrUIoXK12ZfUuaa4Jfmd0sHCHG1//NExBAU2bKoAdpQABu1bFVpS3N//1oRxNxDr1EAni5nqgvCInOsogE0ciJ9TBAjpfUjBoRaKVX1+jN5O5+g9P0fT//9RGRBkuWLrSrHBvHqW60li8AM0nrnh6C0wEZm//NExA8RCTawAJSQcInNi+G0Gi9AlTf0Te/yi3/gTh+3uEIfvfsS988O/6j0jWhwfqX3qJ1ioPkQ5////7amIlk11av71tuwB8TMz7hDghAJ05egbJMJcEoyVSZEN/RP//NExB0SaZKoAMtKlPSUTvRHwStjOJOw9uVF7oPJlCIBBjqjzN6fmZcpRELB0s3/r//+viZpgFa/SqS792PEACZzAgYNi1iefYZGXEVrmN6u0Dg0W//ckjW9/qoJqYZo//NExCYSMTKYAN4acF8cAbxdoy8Zkql51/mR/2RakkovD24h52kjWCv/9P///p5KgJtYo+65AaPnVMZ+oWFgBUgXCVB0qTQNRGrUx3pqXPx5jHK2tb5WFYENjnWSC3su//NExDASURaAAN4UcJ1IS5qr2fdFJDpYrq7XFQ1//////px0K0IqaLciLlMBAoLGLkAGpoGJ8tkEQLpjjLAOoDlIprnRPpbd1SkSJ6rcPytrD4Ot8j01c7oeSX5GcSQ5//NExDkRwRp4AOzUcN/nzX/////35A5UMYjodyONbcBAWYDB4YS28YYhsYDgGimXoa0QcAHEMMVsgiGAj99kF0lphMSZnPKLejG7yvqyCJWKW0i0tp9yP/////0q5IQi//NExEUSAP50AOxKcFWFKk9oddaIprmIC8d9Wpv4UAIPiEI5g+sTJARVLaaxdgpVVlsz3WPAPGNrpi6mev1o3V1n0vlXRijyAqRfK6enYj////yX0fEoo/RVTHJAZZRK//NExFASSKZkAOYYTA4IHg5nMImzoH0GDgRwXEhNX5DWvqQ9hKqb0ewCXnN6V/m1Mvj3rlB0tebMNUDBcoLtavR0ICf//+n/9nldaoo4rzMLC4cbVhHwLBg4ms+WVWls//NExFkRGLpQAN4MTB5XRgIAABwd00ZKnzJ6/+p///pSIkuNDsBcF56FjxQXv55vSuKm4rfpyz3g95//J//nEZ//6cJbLaZMU1+YJoEIDpc/yRgOHJ7dkkHQ0RHQx7Vf//NExGcSgZJwANnQlN/T///+6vTPoMNkg+AEE1yV3aF2gYmZzfKTYpWz7HajS6TyZPPsSv1Palv/92QX//1vJ7PProdDWItPG/9QcBk2KP/EgEEtyB+j///////zU8jT//NExHAT+Z6IANqWlIHQqSLiObPlwcPgwebVTBKq9odbEGnQFSH//7W0VHQCLf/+6hXu7csQlnRpRMHOJXmVvkQr3nRBBv0K+j9H871/X/H/3+SEdscWZEViW4hmEF60//NExHMREZKUANqQlBDWKok3hoE7XdjW///TsctoQKHh1P6t9DlK1PYUYoAngEA0EW+Uo4bs5nv1t7s7RUZ0O8719Ubu3V/JDQ01RYAWE78GP3Gkgfe6DEFINhwaFYC6//NExIER2ZqQANqQlIRshQACycxe//9/33/t/+33///e3x9mHu/NY+ot4QFq0QIzRJhpsyXTD73KVc69SNiAEObLRotfuITAgFzEAx8r/M4di68j6EJnU3zST1+af2Qy//NExIwZanqMANnMuKYJI+G4yH4lAXkDrVaPN1UjRJCazxIRvkKiNHNNchQFy+4FkLbc/v+Rq/6yf/v/P6/v/1tb/k4e4yrZSx69qumiLN9aDmF3jRYUicuqx5KcxzHM//NExHkcAnqIANqSuOQmNV8mshQrUvpscvhon1Mbjo0b36O3/VPONPOUdAkI43B8YZFKyj0kjTEIcVEV6k2IhXIk1CZPkCBjBFIgYczK/df7mb/6/2/////8/nLf6zz2//NExFwaomaMANnSuB9lLEwXBptndVdVRahhBameV14gtZK77T6TkWRlIiUryx0Jz/NfyL/bq3///W7/VCoy3NoBjTKN85kSco1I+LIyShU9luccWI0SBiUzBcwgq2F3//NExEQVYaaUANHSlNv1fyLz7DwoIhIDANW3/+rUhec7y0MCzpMBoBF68QfUEB0D7Taj+gpvRft+Rvxvd6wiQcDwEQA4BxHMo6TzEcPTq4ZRzwik1bvPKPZ7AWZd///7//NExEEROY6gANCQlJX//9D+b1XfQIbPYKV9axNT4qIyQU4iAgo2URExd//Uny/Sk/aCpmfwYtLgiI76Ti0LCWfp00Ll8pTNnt3az/T3Utz+gNu////7///ox//7dEQE//NExE8SQYqkAMlYlM5VDHbptC5jJHXDR+cRCqT+ahG/U5X6HKejTMK0vEx9+pSD4dSiIhMSiSWRCKps0zrLubXp+v99O2bTswTdnGUm365V9iLAIUABwwtWU62MQSha//NExFkSMYqkANKYlIKTe9P6zn6Jon86UM/NMF2ElL8ThkrPBeXS7yPCngoaqVU/3/81tS//rW1NfXgxH+4lV/////4p/Ws6krZgBgoBq5QCuxP3PxGeBSLSkH5Q/UZL//NExGMR+YagAKNelPqJozT61EsUy4tc1OnQtI31pJjtCahYDnIdlGLpJ/qdBtdZ9CRBX//////9KpznP5uUEIadZeGbjrsTKSKjMAK0FQcNW5OEyKCvwb3/+o//lEEE//NExG4R2XKcANwalBEl/uLgSRwBGR1FLScwhjlNWCr6xoDetwS/////6f6ajM5fpI27CX5gQYdurAfCabJLvM5MgBJFXrtPCSH+vOkTbdnSIymyqYs2ptaxiJeK3PhV//NExHkRYR6QANtWcD+PDpa1Yqo//+svd///1bJv//7v//VyNYzzHOpdeIvaYNxItgggCrqkNzE3EgAWSBvZvdlUxB5sydkEECIIp03ZZKEFNE3YIG1fDLusv8eskUgK//NExIYSmWqIANwelLN/Wat7YXwmmKZv77dX/v/7Mb6f6f/xT//6fOSaiHvyat/ezwn4ohEZQiIsDlRXt0mc0IAEWfDt/TEwFx9v/5Mzv8ygdEFFbTQeAEAQQSici6Wp//NExI4W2XKIAOUelBoPYJpNe1mgJABw604sJZwsFzudU9Fu3Rj2+jP1P/rSjohg+TRUf/9//0MaiMdVVmDjWu9BcflS6O3Vx5zvyt8C9B32SQL346wxuMOd4ptTALf+//NExIUbCraQAOLOucjSBhSnABAGGeb9tfK3ZkgICztdm///3//+qWfU72bqf6vI3Ix6aiyaKpw6CA0GNTpRzgO0Yrs/3vZSi8c6FBnrk1rVrV27w/jXRHkN3z32mggB//NExGsTarKgANCEuAHQCJmisupzLIvP6f81ZZzt+2fvN703JvnTe9oqTbZ+/3ZzOnfmLs/l8CJhiAkIlfxH9+tFG6440zGV61TldcOhcIaoGg6HZZwdISXChqmY1JcW//NExHAiAx6YAMDYvNDAkJWTMyE8yLDY7gnHGPYfnC8+EiJiiD+QmJkIWv+f5HX6bSw5iZB+sw+fcEvmZ3ZmZ2Zm3dP7O5n2n/2dr0795tbdZdm1sdrjcstUigrCcIbr//NExDsacyKgAAhYvHVzGmXTl89q8uejTjoKg1QMbWmxTjojKi5AXHByy4+VlF+Q06daDc7MW2POio5Wf7/////uVEL//1////////0S+pXpZrIVd7NWjuY6zMjmGkHs//NExCQQ4xqsAAhKvSx1MQoiJh9YsCFKYVUVQeZhQWQWIrFFw6QIiYiguJE6/8oF/7U56v///w/////2/7ft9vXWn18tGfkOhqEGqIHVCMMOMYjoomogVSoJI5hArnQG//NExDMQgx60AAhKvGEQcEGiDuNcOFFQ+ImGDv/7l3Avhzqua7Y4kHMueH0AAUfkk9EsdTnxBiGU/T0o/1f0r////////+v/1/mo5iyl5jN0M9CsUTlKJ5UMZ4USJyCq//NExEQQ4wK0AHlEudWu45s4OoBa1DKqaJgG4tRi2OdVhidbi85vj/2cu5SiKT22bPEwueyEAGA+HptlP/4l1xCBpgHNHigLu/7V1uT////oqQ37VtTV5/cK4xYHRpM+//NExFMSSP6sAM4WcNRkZFCM3M8ElAP5l2/9u6zu8/6j94ZeIYIitRAcIqM4djIa9D675afmxf+ZMZ4oGfV8Xel5z///+taVMX9zzaq2cCBsOE2qMA1EfjR95fGYC1oT//NExFwSCSqsAMYQcN3kymHsf/sGOdv+RFJvWgDxJ2NVFpZXxnv5MTnx0e+E0Ts+ocbb8lpSLlf///9H2/TVx/Gs5ANhFm175wApgQMQZQwTQHkADYOMRW0Xp49dZgVl//NExGYRCTakAKYWcKrECB/DSHHx8YVrR1+pb48vczxUXbO/O7IlIf//dmtNGrWyt3pVsyprilAwUHoEZhpAXSb0lBDLzAiBy6rUa7ZEvnXf6e5NP9PuzFb5I6Fnk0Qq//NExHQRkT6cANTOcNgbAumLJZYO7qPlVXb49vUk75L////+JYaY3/61gU1IBmIUvsHEN8WiYiwFOc8o1GS/xz+o5LDKQSCzDlmxLsEyvjFG8TMvBUR4hyiRRWm7EUkB//NExIASYR54AVtAACgqJ49BMRhRhSCrTx6EqcNDiJdHKYm50n/zBFSKSbnzVBd1/9dFTq2U6zA8tk++2/ZSnRRZ1LZFBcuIsimboLb//1P//psmplLdA0LgCoZuT0RT//NExIkg2xqEAZpoAUTBBU1KIRWgdubXEbRQNNVLXC73vFyXv/8oKg5T6Hl28XCLdjnECG4BAQZdzBeIc+mpdrR4PC2aPCcWxxzJELH3M+e9NSf1KEk3n///pey/7fTb//NExFgaesKUAdtQAb6ZjWPPQwgY5CTfYKa8QzXLr+V9bplomovMO9r0EeBpmdCBMXnO6hPz1qhmHHe6Impu+gsYJd1KGKWF5M8ZnQcjIbiyGWp3qE/dFXcoDThk844X//NExEEaEsaUANtOuBl9Rhu5j6NMc/cVsl8bN//9vnP+1tPW3+ynqcaOKVUmcF4PnWw6upWl1+N9Mg4hWFhedqQG7owzmfjja5UvyjBW673p8SbO/fDIl8+/qgfDvAZC//NExCsbSraQANvUuVbJ4FMrovTrEkbtxTTa19Jxn6oPBgCEWsc4xHOfJ28oT3d3Est4qjhtqkLfX6o3kn//9vqZ8qh1WIiRyqlnk0Z2ySq9vtSaMZkKwKAK/PwyYMWP//NExBATARKQANYMcFE7Vm2saezW3jncq8z7dn5yVSpIWcdvbTSgrmkZb9zcZ8OSuflMSJOAoarDWvAzxpEOP/////Vxz5LSJaGOWX2egyWCOeRkSG/kdkACJ/qhfZ1T//NExBcRcQZ8AN4McENS/PLVml1Ocua7Xp+gxK9u/pPmpo5/mwh7fTIZDloWUcYVBCjhitpZ//////+uktqdtQKWmPvqygadCIRMQgIkclYTetpqBUobXLA9r/Fye9rn//NExCQWmYqEANrSlJhXuhUm8eWEw4jnyhOGGKYRguAiE3izdQR7kkL69+9//+f+EcJ5nlE9L5D/8mr1MhgTl7fvvVWg3qheghQmGyLXmLkvbQREoGz6gvoGfX6F+X/b//NExBwRsZqYANFWlH/cua02aJACpMlElglh+lj3lBY6eHvb/L4r4hsR7zcjMO///2bRVRQI/6m5z6WGiyBxQmpxbr/Li085nodvDN/9/m+J//b4gaLRRodh+FdZQsTg//NExCgRMZqcANiQlLVuBttdIix/pdeiUc4PhZ9P//R1rKhgagS1bKuh3rGmipjgBtMH412YGAIn1bw/evRS/////7kM7iYoAYqIhaBxw6JCDHIFAIECjhZS+7MqWbqc//NExDYSao6gAMlKuHjyL///////380xSRyKHeLHEO9K/DHanRko48Jn6zRDCIHVBnxpf8np///60HDD2HhwcEgbhLIKPFTjBIKlCYaPN6uNKAud///TeSip4kCgHAwe//NExD8RYTqgANFOcKqEWit5qVqrZ63QxTQ5qpC+CoWQFA4uoQLBQKGhw8givQ2qer+ttexpokHjGUowAhVHGB4POZRodBL/8FD3////DUr/1B2JnyUHAWRFQEmDw4c///NExEwQeSqQANFKcNEYrLgABhegHAos4JCJUKRRdqJV5bHmuyiXZ4VcdbDATgJVdtVQGJEkGMqB0RNZrLVB3/+r////+r/9SkzTGv0Qghp2omqdyiqGCwQYwSOaVmic//NExF0RWLZYAVwYALFcIEdN/rI3JuGSQkEgkd9BoBMJxLBMIxHZvEwkDhUSwjEsBg0En8RxsJBxp4PxqPiONxv/VGq7mEEKSBf/oya8mZd2T//+e9uznLiWxY4YFv////NExGofQypgAZs4AOQ+yvZ8TDUTjwjlSAljwwcNiJR9h5w3Y1ZpW0zWt1V+AwKaogZ+Oe2nMRRE2CQSFXuNhkxI1AZA2UKDoLX0KxtcZB8eQw8sYcZbB5NUVliMB4NS//NExEAhUx6QAZpYANOTs+TU407Sy7jxCHGU+vpp1jW3Vrx1P7P/52I8/PT2f//L/+M43cYsbE9nZ/6v/l08S//p7bZ6MNp3MU59T/HFPh/TTar6bVOYBw11PQzo1iDz//NExA0V6aKgAdlYAAGDRZI8LvkT2GUQajby5Ab3XveeJ9dUWPpMb0NxQSH2aEwFC1hIJhpDNjG5IQh7zzzhu1j1r+J9jL/nqf5t8RV0r3/////Vd1RfTdc3SCPkNU96//NExAgTMSqsAMTScOgeS/sUQk8DmoRtHwIO0S+O1FkyQJ55gzPo2S3i5rFJgENgSKZDBVDGL55cS1JTIHRmV1qnWfV76oSQIhMBXf/////aZcv1HwbfO69JQie5g6QM//NExA4VYZagAM4QlDla52u3YrZjldarzvMGLd/TwXv3baBhTw2tOW5VF9unDty5HM8ih1wWHzRYSmmDB4eNERz/+/d9f8dzA0asHI////8jR+hBNeb3KDM2cumhhF4a//NExAsReQKcAMvacEpB03CFvMvHABphe5QT668hWfAJ/EOmwohKqJFAkjNnHaPJ2o1aKs47OibAqAXKd+5aVnSP/////+oqhFNNTRrfyYaGEwVaGA08Jt7HKC4AWJLg//NExBgRyK6AAN6YTJdKmVSKFcuhos+tQMQ4IQjB/p6Exyu3XGNEoDqcJjAoH1ieaDH9rxM////////H1YcjTqFwznLAe2x4MV2pE00eXXDUyFjqw285JDEolmMWZxYw//NExCMSORp0AN4McJXGov3WOQ9KEVFydGfar68q/+Ie+l305I55NCTko7Vf//////8ulTMIuXuMXwoySVTA4GDgiEBIqPCwmFxaMw7FrlNUkczKUOLAiJCBEKjC8Gl8//NExC0SSKpwAOYSTNLH7ZgBRcRLcFTUAhMNOgWbFX6ior///////8rVpGVMSR1C3sO1nwwuCR0EIByzQ2Vk0AwZA1f6tXNxcqISgyUJXRSalVui6CZLLM/ViKnRQJBY//NExDYSiMJYAOYSTBsqKtYeWVULPXzMn/////7fKuN0KlAnSWeVgY1f0DYYiKwetBBGIWQxHMivTy3jyMeMcuTAZF0U6Z8J/J3jV+39QTBJALhISIA4so+G1wn7UaZj//NExD4RaLZIAOPSTP//V/zv/LStVKgMRyMANETYDgmVLGZPGn8t9Etaj4cGbnEgYlrUdv+kcBiQOr+ZvDl+f2bW0tRoMOljjGBMNOMabnaP+n6Wf+Z//JKs0pdUBAVQ//NExEsQ6PI8ANGMcGOazBUrjFQBhKEInLjo+7VvH6rVUvqzgE4kqJSQdJArUFQVCToKhIOHhESLHSMRYiDsS/9Wo9+e8GqvlkxBTUUzLjEwMKqqqqqqqqqqTEFNRTMu//NExFoQwKYcAMMGTDEwMKqqqqqqqqqqqqqqqqqqqqqqqqqqqqqqqqqqqqqqqqqqqqqqqqqqqqqqqqqqqqqqqqqqqqqqqqqqqqqqqqqqqqqqqqqqqqqqqqqqTEFNRTMu//NExGoAAANIAAAAADEwMKqqqqqqqqqqqqqqqqqqqqqqqqqqqqqqqqqqqqqqqqqqqqqqqqqqqqqqqqqqqqqqqqqqqqqqqqqqqqqqqqqqqqqqqqqqqqqqqqqqTEFNRTMu//NExKwAAANIAAAAADEwMKqqqqqqqqqqqqqqqqqqqqqqqqqqqqqqqqqqqqqqqqqqqqqqqqqqqqqqqqqqqqqqqqqqqqqqqqqqqqqqqqqqqqqqqqqqqqqqqqqqTEFNRTMu//NExKwAAANIAAAAADEwMKqqqqqqqqqqqqqqqqqqqqqqqqqqqqqqqqqqqqqqqqqqqqqqqqqqqqqqqqqqqqqqqqqqqqqqqqqqqqqqqqqqqqqqqqqqqqqqqqqqTEFNRTMu//NExKwAAANIAAAAADEwMKqqqqqqqqqqqqqqqqqqqqqqqqqqqqqqqqqqqqqqqqqqqqqqqqqqqqqqqqqqqqqqqqqqqqqqqqqqqqqqqqqqqqqqqqqqqqqqqqqqTEFNRTMu//NExKwAAANIAAAAADEwMKqqqqqqqqqqqqqqqqqqqqqqqqqqqqqqqqqqqqqqqqqqqqqqqqqqqqqqqqqqqqqqqqqqqqqqqqqqqqqqqqqqqqqqqqqqqqqqqqqqTEFNRTMu//NExKwAAANIAAAAADEwMKqqqqqqqqqqqqqqqqqqqqqqqqqqqqqqqqqqqqqqqqqqqqqqqqqqqqqqqqqqqqqqqqqqqqqqqqqqqqqqqqqqqqqqqqqqqqqqqqqqTEFNRTMu//NExKwAAANIAAAAADEwMKqqqqqqqqqqqqqqqqqqqqqqqqqqqqqqqqqqqqqqqqqqqqqqqqqqqqqqqqqqqqqqqqqqqqqqqqqqqqqqqqqqqqqqqqqqqqqqqqqqqqqqqqqq//NExKwAAANIAAAAAKqqqqqqqqqqqqqqqqqqqqqqqqqqqqqqqqqqqqqqqqqqqqqqqqqqqqqqqqqqqqqqqqqqqqqqqqqqqqqqqqqqqqqqqqqqqqqqqqqqqqqqqqqqqqqq//NExKwAAANIAAAAAKqqqqqqqqqqqqqqqqqqqqqqqqqqqqqqqqqqqqqqqqqqqqqqqqqqqqqqqqqqqqqqqqqqqqqqqqqqqqqqqqqqqqqqqqqqqqqqqqqqqqqqqqqqqqqq\" type=\"audio/mpeg\" />\n",
              "                    Your browser does not support the audio element.\n",
              "                </audio>\n",
              "              "
            ]
          },
          "metadata": {},
          "execution_count": 51
        }
      ]
    }
  ]
}